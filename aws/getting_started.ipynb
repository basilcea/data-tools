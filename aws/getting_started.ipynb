{
 "cells": [
  {
   "cell_type": "code",
   "execution_count": 1,
   "id": "c88491c5-94e9-4709-8a3d-57a41e6fc9b4",
   "metadata": {
    "editable": true,
    "slideshow": {
     "slide_type": ""
    },
    "tags": []
   },
   "outputs": [
    {
     "name": "stdout",
     "output_type": "stream",
     "text": [
      "Hello World\n"
     ]
    }
   ],
   "source": [
    "print(\"Hello World\")"
   ]
  },
  {
   "cell_type": "code",
   "execution_count": 2,
   "id": "5c9f7031-bda1-4ca7-9198-3a101b101b94",
   "metadata": {},
   "outputs": [],
   "source": [
    "import boto3"
   ]
  },
  {
   "cell_type": "code",
   "execution_count": 3,
   "id": "80fb59fa-9926-47b8-a5d0-5dbb7643adb7",
   "metadata": {},
   "outputs": [],
   "source": [
    "s3_client = boto3.client('s3')"
   ]
  },
  {
   "cell_type": "code",
   "execution_count": 6,
   "id": "2cb3131b-a34d-4182-b8c7-ef97cd8e4bd7",
   "metadata": {},
   "outputs": [
    {
     "data": {
      "text/plain": [
       "[{'Name': 'databricks-workspace-stack-6764a-bucket',\n",
       "  'CreationDate': datetime.datetime(2024, 6, 2, 15, 47, 46, tzinfo=tzutc())},\n",
       " {'Name': 'databricks-workspace-stack-6764a-lambdazipsbucket-ungwaaokhdyi',\n",
       "  'CreationDate': datetime.datetime(2024, 6, 2, 15, 47, 37, tzinfo=tzutc())}]"
      ]
     },
     "execution_count": 6,
     "metadata": {},
     "output_type": "execute_result"
    }
   ],
   "source": [
    "s3_client.list_buckets()['Buckets']"
   ]
  },
  {
   "cell_type": "markdown",
   "id": "fcf2b8af-903b-4564-ba31-9644ee12b8da",
   "metadata": {
    "editable": true,
    "slideshow": {
     "slide_type": ""
    },
    "tags": []
   },
   "source": [
    "# Vital AWS commands\n",
    "\n",
    "# s3\n",
    "## Create a bucket \n",
    "### using cli \n",
    "   ```aws s3api create-bucket — bucket <bucket-name> — create-bucket-configuration LocationConstraint=<region> // Your bucket name should be globally unique```\n",
    "### using python sdk \n",
    "    def create_s3_bucket(bucket_name):\n",
    "     # Create an S3 client\n",
    "     s3_client = boto3.client('s3')\n",
    "    \n",
    "     # Create the S3 bucket\n",
    "     response = s3_client.create_bucket(\n",
    "         Bucket=bucket_name,\n",
    "         CreateBucketConfiguration={\n",
    "             'LocationConstraint': 'your-region' # Replace 'your-region' with the desired AWS region\n",
    "         }\n",
    "     )\n",
    "## Create a folder\n",
    "### using cli\n",
    "```aws s3api put-object --bucket <bucket-name> --key folder-name/ --content-length 0```\n",
    "\n",
    "## Versioning\n",
    "### using cli \n",
    "```aws s3api put-bucket-versioning --bucket <bucket-name> --versioning-configuration Status=Enabled```\n",
    "\n",
    "## LifeCycle Configuration\n",
    "```aws s3api  put-bucket-lifecycle-configuration  --bucket <bucket-name> --lifecycle-configuration file://<path to json file>"
   ]
  },
  {
   "cell_type": "code",
   "execution_count": null,
   "id": "d9775011-34e6-4e59-967f-fbc9f572c5bd",
   "metadata": {
    "editable": true,
    "slideshow": {
     "slide_type": ""
    },
    "tags": []
   },
   "outputs": [],
   "source": [
    "# use httpd to start apache web server\n",
    "# routes set to 0.0.0.0/0 is important in internet gateways to be able to connect to ec2"
   ]
  }
 ],
 "metadata": {
  "kernelspec": {
   "display_name": "Python 3 (ipykernel)",
   "language": "python",
   "name": "python3"
  },
  "language_info": {
   "codemirror_mode": {
    "name": "ipython",
    "version": 3
   },
   "file_extension": ".py",
   "mimetype": "text/x-python",
   "name": "python",
   "nbconvert_exporter": "python",
   "pygments_lexer": "ipython3",
   "version": "3.10.6"
  }
 },
 "nbformat": 4,
 "nbformat_minor": 5
}
